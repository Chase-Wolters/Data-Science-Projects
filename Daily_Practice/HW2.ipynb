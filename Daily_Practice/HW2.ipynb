{
 "cells": [
  {
   "cell_type": "markdown",
   "id": "f1737120",
   "metadata": {},
   "source": [
    "# BAN5753 EXERCISE 2"
   ]
  },
  {
   "cell_type": "markdown",
   "id": "00fa841f",
   "metadata": {},
   "source": [
    "## Part I"
   ]
  },
  {
   "cell_type": "markdown",
   "id": "fb32f5bf",
   "metadata": {},
   "source": [
    "1.\tBuild a regression model to predict Satisf using only dealers’ perceived importance about choosing a supplier of hydraulic and pneumatic products. Variable names in the data are Reliab2, Time2, ….,Return2, Warranty2 as independent variables."
   ]
  },
  {
   "cell_type": "code",
   "execution_count": null,
   "id": "83c0173d",
   "metadata": {},
   "outputs": [],
   "source": [
    "# import necessary packages\n",
    "import pandas as pd\n",
    "import matplotlib.pyplot as plt\n",
    "# import necessary package to handle excel workbook\n",
    "import openpyxl\n",
    "import statsmodels.api as sm\n",
    "import statsmodels.formula.api as smf\n",
    "import sklearn\n",
    "from sklearn.model_selection import train_test_split\n",
    "from sklearn.linear_model import LinearRegression\n",
    "from sklearn import metrics\n",
    "from sklearn.feature_selection import RFE, RFECV\n",
    "import numpy as np"
   ]
  },
  {
   "cell_type": "code",
   "execution_count": null,
   "id": "4215172a",
   "metadata": {},
   "outputs": [],
   "source": [
    "# import data\n",
    "df = pd.read_excel(\"C:\\\\Users\\\\cwolt\\\\OneDrive\\\\Desktop\\\\BAnDS\\\\Fall 2025\\\\Advanced Business Analytics\\\\Module 2\\\\BFP1_Data.xlsx\")\n",
    "df.head()"
   ]
  },
  {
   "cell_type": "code",
   "execution_count": null,
   "id": "4027d0e3",
   "metadata": {},
   "outputs": [],
   "source": [
    "# Show column headers\n",
    "df.columns"
   ]
  },
  {
   "cell_type": "code",
   "execution_count": null,
   "id": "806477cc",
   "metadata": {},
   "outputs": [],
   "source": [
    "# transpose the outpute of the df\n",
    "df.describe().T"
   ]
  },
  {
   "cell_type": "code",
   "execution_count": null,
   "id": "bfc35c80",
   "metadata": {},
   "outputs": [],
   "source": [
    "model_df = df[['reliab2', 'time2', 'av_br2', 'av_spec2', 'price2', 'credit2', 'return2', 'warrant2']]\n",
    "# check for null values in subsetted data\n",
    "model_df.isnull().sum()"
   ]
  },
  {
   "cell_type": "code",
   "execution_count": null,
   "id": "11c36909",
   "metadata": {},
   "outputs": [],
   "source": [
    "# drop all null values\n",
    "model_df = model_df.dropna(axis=0, how='any')"
   ]
  },
  {
   "cell_type": "code",
   "execution_count": null,
   "id": "95569676",
   "metadata": {},
   "outputs": [],
   "source": [
    "# checking the data types of the columns to ensure they can be used for model building\n",
    "model_df.dtypes"
   ]
  },
  {
   "cell_type": "code",
   "execution_count": null,
   "id": "b64a551d",
   "metadata": {},
   "outputs": [],
   "source": [
    "# define the model formula\n",
    "ols_formula = \"\"\"\n",
    "satisf ~ \n",
    "reliab2 + \n",
    "time2 + \n",
    "av_br2 + \n",
    "av_spec2 + \n",
    "price2 + \n",
    "credit2 + \n",
    "return2 + \n",
    "warrant2\n",
    "\"\"\"\n",
    "# fit the regression model and print the model diagnostics\n",
    "linear_model = smf.ols(ols_formula, df).fit()\n",
    "linear_model.summary()"
   ]
  },
  {
   "cell_type": "code",
   "execution_count": null,
   "id": "84ab974a",
   "metadata": {},
   "outputs": [],
   "source": [
    "# to calculate RMSE and CV\n",
    "# residuals and mean of Y\n",
    "residuals = linear_model.resid\n",
    "mean_y = 8.598706 # from above descriptive statistics\n",
    "\n",
    "# Root Mean Square Error (RMSE)\n",
    "rmse = np.sqrt(np.mean(residuals**2))\n",
    "\n",
    "# Coefficient of Variation (CV)\n",
    "cv = (rmse / mean_y) * 100\n",
    "\n",
    "print(f\"RMSE: {rmse:.3f}\")\n",
    "print(f\"CV: {cv:.2f}%\")\n"
   ]
  },
  {
   "cell_type": "markdown",
   "id": "5b973042",
   "metadata": {},
   "source": [
    "## Part II\n",
    "2.\tCreate a new variable (name it as Avg_Score) by averaging the three variables, Satisf, Rate and Percent. Then, run a stepwise regression with Avg_Score as dependent variable and Time2,……, Return2, Warrant2 as well as I_access, Puch_I, pr_area, num_emp and Industry as independent variables. Use p-value to enter as 0.05 and p-value to stay as 0.05."
   ]
  },
  {
   "cell_type": "code",
   "execution_count": null,
   "id": "2f015005",
   "metadata": {},
   "outputs": [],
   "source": [
    "# create new variable for average_score\n",
    "Avg_Score = np.mean(df[['satisf', 'rate', 'percent']], axis=1)\n",
    "print(Avg_Score)"
   ]
  },
  {
   "cell_type": "code",
   "execution_count": null,
   "id": "bb76f29b",
   "metadata": {},
   "outputs": [],
   "source": [
    "# create new df for stepwise regression model\n",
    "model_df2 = df[['time2', 'av_br2', 'av_spec2', 'price2', 'credit2', 'return2', 'warrant2', 'i_acces', 'purch_i', 'pr_area', 'num_emp', 'industry']]\n",
    "# add new variable into df\n",
    "model_df2['Avg_Score'] = Avg_Score\n",
    "\n",
    "# check for all null values\n",
    "model_df2.isnull().sum\n",
    "model_df2.dropna(axis=0, how = 'any')\n"
   ]
  },
  {
   "cell_type": "code",
   "execution_count": null,
   "id": "658cff74",
   "metadata": {},
   "outputs": [],
   "source": [
    "model_df2.info()"
   ]
  },
  {
   "cell_type": "code",
   "execution_count": null,
   "id": "c4263401",
   "metadata": {},
   "outputs": [],
   "source": [
    "# subset the columns easily from the data frame\n",
    "def _model_data_subset(input_data: pd.DataFrame, column_subset: list =None) -> pd.DataFrame:\n",
    "    if column_subset is None:\n",
    "        return input_data\n",
    "    else:\n",
    "        _model_subset_data = input_data[column_subset]\n",
    "        return _model_subset_data"
   ]
  },
  {
   "cell_type": "code",
   "execution_count": null,
   "id": "4f3c3f28",
   "metadata": {},
   "outputs": [],
   "source": [
    "# create stepwise regression model\n",
    "def _stepwise_selection_p_val(\n",
    "        input_dataframe: pd.DataFrame,\n",
    "        target_variable_name: str,\n",
    "        column_subset: list = None,\n",
    "        SL_in: float = 0.05,\n",
    "        SL_out: float = 0.05,\n",
    ") -> [pd.DataFrame, pd.Series, list]:\n",
    "    model_subset_data = _model_data_subset(input_dataframe, column_subset)\n",
    "    model_subset_data_nona = model_subset_data.dropna()\n",
    "\n",
    "    target = model_subset_data_nona[target_variable_name]\n",
    "\n",
    "    x_variables_subset_data = model_subset_data_nona.drop(target_variable_name, axis = 1)\n",
    "\n",
    "    initial_features = x_variables_subset_data.columns.tolist()\n",
    "    best_features = []\n",
    "    while len(initial_features) > 0:\n",
    "        remaining_features = list(set(initial_features) - set(best_features))\n",
    "        new_pval = pd.Series(index=remaining_features)\n",
    "        for new_column in remaining_features:\n",
    "            model = sm.OLS(\n",
    "                target,\n",
    "                sm.add_constant(model_subset_data_nona[best_features + [new_column]]),\n",
    "            ).fit()\n",
    "            new_pval[new_column] = model.pvalues[new_column]\n",
    "        min_p_value = new_pval.min()\n",
    "        if min_p_value < SL_in:\n",
    "            best_features.append(new_pval.idxmin())\n",
    "            while len(best_features) > 0:\n",
    "                best_features_with_constant = sm.add_constant(\n",
    "                    model_subset_data_nona[best_features]\n",
    "                )\n",
    "                p_values = sm.OLS(target, best_features_with_constant).fit().pvalues[1:]\n",
    "                max_p_value = p_values.max()\n",
    "                if max_p_value >= SL_out:\n",
    "                    excluded_feature = p_values.idxmax()\n",
    "                    best_features.remove(excluded_feature)\n",
    "                else:\n",
    "                    break\n",
    "        else:\n",
    "            break\n",
    "    return x_variables_subset_data, target, best_features"
   ]
  },
  {
   "cell_type": "code",
   "execution_count": null,
   "id": "af19ce61",
   "metadata": {},
   "outputs": [],
   "source": [
    "def build_linear_regression_stepwise_based(\n",
    "        input_dataframe: pd.DataFrame,\n",
    "        target_variable_name: str,\n",
    "        column_subset: list = None,\n",
    "        SL_in: float = 0.05,\n",
    "        SL_out: float = 0.05,\n",
    ") -> [list, list]:\n",
    "    x_variable_subset_data, target_variable, best_features = _stepwise_selection_p_val(\n",
    "        input_dataframe, target_variable_name, column_subset, SL_in=SL_in, SL_out=SL_out\n",
    "    )\n",
    "    dataframe_subset_best_features = x_variable_subset_data[best_features]\n",
    "    regression_model = sm.OLS(\n",
    "        target_variable, sm.add_constant(dataframe_subset_best_features)\n",
    "    ).fit()\n",
    "    print(\"The best features are \", best_features)\n",
    "    return regression_model.summary()\n"
   ]
  },
  {
   "cell_type": "code",
   "execution_count": null,
   "id": "3b02a1f8",
   "metadata": {},
   "outputs": [],
   "source": [
    "SL_in = 0.05 # entry p-value\n",
    "SL_out = 0.05 # exit p-value\n",
    "\n",
    "build_linear_regression_stepwise_based(model_df2, \"Avg_Score\",['time2', \n",
    "                                                               'av_br2', \n",
    "                                                               'av_spec2', \n",
    "                                                               'price2', \n",
    "                                                               'credit2', \n",
    "                                                               'return2', \n",
    "                                                               'warrant2', \n",
    "                                                               'i_acces', \n",
    "                                                               'purch_i', \n",
    "                                                               'pr_area', \n",
    "                                                               'num_emp', \n",
    "                                                               'industry'], 0.05, 0.05)"
   ]
  }
 ],
 "metadata": {
  "kernelspec": {
   "display_name": ".venv",
   "language": "python",
   "name": "python3"
  },
  "language_info": {
   "codemirror_mode": {
    "name": "ipython",
    "version": 3
   },
   "file_extension": ".py",
   "mimetype": "text/x-python",
   "name": "python",
   "nbconvert_exporter": "python",
   "pygments_lexer": "ipython3",
   "version": "3.13.7"
  }
 },
 "nbformat": 4,
 "nbformat_minor": 5
}
