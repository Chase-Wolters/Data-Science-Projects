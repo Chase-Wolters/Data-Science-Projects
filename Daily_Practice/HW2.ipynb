{
 "cells": [
  {
   "cell_type": "markdown",
   "id": "f1737120",
   "metadata": {},
   "source": [
    "# BAN5753 EXERCISE 2"
   ]
  },
  {
   "cell_type": "markdown",
   "id": "00fa841f",
   "metadata": {},
   "source": [
    "## Part I"
   ]
  },
  {
   "cell_type": "markdown",
   "id": "fb32f5bf",
   "metadata": {},
   "source": [
    "1.\tBuild a regression model to predict Satisf using only dealers’ perceived importance about choosing a supplier of hydraulic and pneumatic products. Variable names in the data are Reliab2, Time2, ….,Return2, Warranty2 as independent variables."
   ]
  },
  {
   "cell_type": "code",
   "execution_count": null,
   "id": "83c0173d",
   "metadata": {},
   "outputs": [],
   "source": [
    "# import necessary packages\n",
    "import pandas as pd\n",
    "import matplotlib.pyplot as plt\n"
   ]
  }
 ],
 "metadata": {
  "kernelspec": {
   "display_name": ".venv",
   "language": "python",
   "name": "python3"
  },
  "language_info": {
   "codemirror_mode": {
    "name": "ipython",
    "version": 3
   },
   "file_extension": ".py",
   "mimetype": "text/x-python",
   "name": "python",
   "nbconvert_exporter": "python",
   "pygments_lexer": "ipython3",
   "version": "3.13.7"
  }
 },
 "nbformat": 4,
 "nbformat_minor": 5
}
