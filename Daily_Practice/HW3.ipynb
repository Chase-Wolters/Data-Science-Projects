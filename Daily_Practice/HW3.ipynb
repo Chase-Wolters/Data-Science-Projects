{
 "cells": [
  {
   "cell_type": "markdown",
   "id": "f957f984",
   "metadata": {},
   "source": [
    "# BAN 5753 Ensemble Learning Exercise\n"
   ]
  },
  {
   "cell_type": "code",
   "execution_count": 1,
   "id": "b7f6763d",
   "metadata": {},
   "outputs": [
    {
     "name": "stderr",
     "output_type": "stream",
     "text": [
      "c:\\Users\\cwolt\\OneDrive\\Desktop\\Data-Science-Projects\\.venv\\Lib\\site-packages\\tqdm\\auto.py:21: TqdmWarning: IProgress not found. Please update jupyter and ipywidgets. See https://ipywidgets.readthedocs.io/en/stable/user_install.html\n",
      "  from .autonotebook import tqdm as notebook_tqdm\n"
     ]
    }
   ],
   "source": [
    "# import all necessary libraries\n",
    "import pandas as pd\n",
    "import os\n",
    "import numpy as np\n",
    "from numpy import mean\n",
    "import matplotlib.pyplot as plt\n",
    "import seaborn as sns\n",
    "import lightgbm as lgb\n",
    "import shap\n",
    "import warnings\n",
    "warnings.filterwarnings('ignore')\n",
    "from pylab import rcParams\n",
    "#rcParams['figure.figsize']=16,15\n",
    "rcParams.update({'font.size': 14})\n",
    "# pd.options.display.max_columns = 25\n",
    "pd.set_option('display.max_columns', None)\n",
    "pd.set_option('display.max_rows', None)\n",
    "from numpy import argmax\n",
    "from sklearn.model_selection import train_test_split, StratifiedKFold, GridSearchCV\n",
    "from sklearn.ensemble import RandomForestClassifier\n",
    "from sklearn.preprocessing import LabelEncoder\n",
    "from category_encoders.target_encoder import TargetEncoder\n",
    "from category_encoders.ordinal import OrdinalEncoder\n",
    "from category_encoders.woe import WOEEncoder\n",
    "from category_encoders.cat_boost import CatBoostEncoder\n",
    "from sklearn.pipeline import Pipeline\n",
    "from sklearn.metrics import confusion_matrix, classification_report, roc_auc_score, roc_curve, average_precision_score"
   ]
  },
  {
   "cell_type": "markdown",
   "id": "07382b03",
   "metadata": {},
   "source": [
    "## Data Preprocessing"
   ]
  },
  {
   "cell_type": "code",
   "execution_count": 12,
   "id": "d369b01e",
   "metadata": {},
   "outputs": [
    {
     "name": "stdout",
     "output_type": "stream",
     "text": [
      "   Admitted  avg_income  CLINIC_VISIT REFERRAL_SOURCE  Visit_Date Visit_Month  \\\n",
      "0         0    46045.39             0              ER           4         Jan   \n",
      "1         0    19145.43             1            Self           4         Sep   \n",
      "2         0    48816.69             0            Self           9         Oct   \n",
      "3         0    68702.11             0              ER           8         Mar   \n",
      "4         1    63064.45             0            Self           2         Sep   \n",
      "\n",
      "   Visit_Year  distance_to_hospital ETHNICITY   BMI  Patient_ID  \\\n",
      "0        2024                 11.40     Asian  35.2       10001   \n",
      "1        2025                  5.20     White  26.3       10002   \n",
      "2        2023                  2.67       NaN  25.2       10003   \n",
      "3        2024                 13.27     White  26.9       10004   \n",
      "4        2024                 14.49     Black  37.9       10005   \n",
      "\n",
      "   symptom_duration Local_Resident    BP_Score  Pulse_Score  \\\n",
      "0                 9              Y  120.417310         82.2   \n",
      "1                 6              Y  114.322884         81.0   \n",
      "2                 8              Y  116.918848         62.7   \n",
      "3                 5              Y  131.209240         75.5   \n",
      "4                13              N  110.722173         80.5   \n",
      "\n",
      "   interest_in_admission PRIOR_PROVIDER_TYPE INSURANCE_TYPE  FOLLOWUP_EMAILS  \\\n",
      "0                      3             Private       Medicaid                2   \n",
      "1                      2             Private       Medicaid                2   \n",
      "2                      2                 NaN      Uninsured                0   \n",
      "3                      5                Govt        Private                3   \n",
      "4                      6             Private      Uninsured                2   \n",
      "\n",
      "   REFERRED_BY_SPECIALIST  REFERRAL_CONTACTS  OXYGEN_LEVEL  PATIENT_CALLS  \\\n",
      "0                       1                  0     96.534471              0   \n",
      "1                       1                  3     98.117134              5   \n",
      "2                       1                  3     96.106006              0   \n",
      "3                       1                  3     96.977680              3   \n",
      "4                       1                  1     95.202774              5   \n",
      "\n",
      "   sex  HOSPITAL_REACHOUTS  TELEMEDICINE_SCORE SERVICE_REGION  TOTAL_CONTACTS  \\\n",
      "0    1                   2                 3.1          North              11   \n",
      "1    0                   3                 2.7           East              13   \n",
      "2    1                   4                 4.3          North               7   \n",
      "3    0                   4                 2.4          South               9   \n",
      "4    1                   1                 2.9          North               0   \n",
      "\n",
      "   TRAVEL_REQUESTS  TOTAL  AllocProportion  SampleSize  ActualProportion  \\\n",
      "0                1      0             0.79         528              0.20   \n",
      "1                2      4             0.67         904              0.24   \n",
      "2                2      4             0.69         607              0.17   \n",
      "3                0      0             0.70         878              0.12   \n",
      "4                2      0             0.76         143              0.15   \n",
      "\n",
      "   SelectionProb  SamplingWeight  \n",
      "0         0.1396            1.83  \n",
      "1         0.1276            1.87  \n",
      "2         0.1422            1.37  \n",
      "3         0.0390            0.77  \n",
      "4         0.0824            0.71  \n",
      "Admitted                    int64\n",
      "avg_income                float64\n",
      "CLINIC_VISIT                int64\n",
      "REFERRAL_SOURCE            object\n",
      "Visit_Date                  int64\n",
      "Visit_Month                object\n",
      "Visit_Year                  int64\n",
      "distance_to_hospital      float64\n",
      "ETHNICITY                  object\n",
      "BMI                       float64\n",
      "Patient_ID                  int64\n",
      "symptom_duration            int64\n",
      "Local_Resident             object\n",
      "BP_Score                  float64\n",
      "Pulse_Score               float64\n",
      "interest_in_admission       int64\n",
      "PRIOR_PROVIDER_TYPE        object\n",
      "INSURANCE_TYPE             object\n",
      "FOLLOWUP_EMAILS             int64\n",
      "REFERRED_BY_SPECIALIST      int64\n",
      "REFERRAL_CONTACTS           int64\n",
      "OXYGEN_LEVEL              float64\n",
      "PATIENT_CALLS               int64\n",
      "sex                         int64\n",
      "HOSPITAL_REACHOUTS          int64\n",
      "TELEMEDICINE_SCORE        float64\n",
      "SERVICE_REGION             object\n",
      "TOTAL_CONTACTS              int64\n",
      "TRAVEL_REQUESTS             int64\n",
      "TOTAL                       int64\n",
      "AllocProportion           float64\n",
      "SampleSize                  int64\n",
      "ActualProportion          float64\n",
      "SelectionProb             float64\n",
      "SamplingWeight            float64\n",
      "dtype: object\n"
     ]
    }
   ],
   "source": [
    "# load data set\n",
    "df = pd.read_csv(\"C:\\\\Users\\\\cwolt\\\\OneDrive\\\\Desktop\\\\BAnDS\\\\Fall 2025\\\\Advanced Business Analytics\\\\Module 3\\\\HW\\\\hospital_admissions_with_missing.csv\")\n",
    "print(df.head())\n",
    "print(df.dtypes)"
   ]
  },
  {
   "cell_type": "code",
   "execution_count": 13,
   "id": "6c9c392b",
   "metadata": {},
   "outputs": [
    {
     "name": "stdout",
     "output_type": "stream",
     "text": [
      "   Admitted  avg_income  CLINIC_VISIT REFERRAL_SOURCE  Visit_Date Visit_Month  \\\n",
      "0         0    46045.39             0              ER           4         Jan   \n",
      "1         0    19145.43             1            Self           4         Sep   \n",
      "2         0    48816.69             0            Self           9         Oct   \n",
      "3         0    68702.11             0              ER           8         Mar   \n",
      "4         1    63064.45             0            Self           2         Sep   \n",
      "\n",
      "   distance_to_hospital ETHNICITY   BMI  symptom_duration Local_Resident  \\\n",
      "0                 11.40     Asian  35.2                 9              Y   \n",
      "1                  5.20     White  26.3                 6              Y   \n",
      "2                  2.67       NaN  25.2                 8              Y   \n",
      "3                 13.27     White  26.9                 5              Y   \n",
      "4                 14.49     Black  37.9                13              N   \n",
      "\n",
      "     BP_Score  Pulse_Score  interest_in_admission INSURANCE_TYPE  \\\n",
      "0  120.417310         82.2                      3       Medicaid   \n",
      "1  114.322884         81.0                      2       Medicaid   \n",
      "2  116.918848         62.7                      2      Uninsured   \n",
      "3  131.209240         75.5                      5        Private   \n",
      "4  110.722173         80.5                      6      Uninsured   \n",
      "\n",
      "   FOLLOWUP_EMAILS  REFERRED_BY_SPECIALIST  REFERRAL_CONTACTS  OXYGEN_LEVEL  \\\n",
      "0                2                       1                  0     96.534471   \n",
      "1                2                       1                  3     98.117134   \n",
      "2                0                       1                  3     96.106006   \n",
      "3                3                       1                  3     96.977680   \n",
      "4                2                       1                  1     95.202774   \n",
      "\n",
      "   PATIENT_CALLS  sex  HOSPITAL_REACHOUTS  TELEMEDICINE_SCORE SERVICE_REGION  \\\n",
      "0              0    1                   2                 3.1          North   \n",
      "1              5    0                   3                 2.7           East   \n",
      "2              0    1                   4                 4.3          North   \n",
      "3              3    0                   4                 2.4          South   \n",
      "4              5    1                   1                 2.9          North   \n",
      "\n",
      "   TOTAL_CONTACTS  TRAVEL_REQUESTS  \n",
      "0              11                1  \n",
      "1              13                2  \n",
      "2               7                2  \n",
      "3               9                0  \n",
      "4               0                2  \n"
     ]
    }
   ],
   "source": [
    "# Drop unnecessary variables (Visit_Year, Patient_ID, PRIOR_PROVIDER_TYPE, TOTAL, AllocProportion, SampleSize, ActualProportion, SelectionProb, and SamplingWeight)\n",
    "df = df.drop(columns=['Visit_Year', 'Patient_ID', 'PRIOR_PROVIDER_TYPE', 'TOTAL', 'AllocProportion', 'SampleSize', 'ActualProportion', 'SelectionProb', 'SamplingWeight'])\n",
    "print(df.head())"
   ]
  },
  {
   "cell_type": "code",
   "execution_count": null,
   "id": "79ee57de",
   "metadata": {},
   "outputs": [],
   "source": [
    "# Encode Cyclical Features – Visit_Date and Visit _Month.\n",
    "df['Visit_Date'] = pd.to_datetime(df['Visit_Date'])\n",
    "df['Visit_Month'] = df['Visit_Date'].dt.month\n",
    "df['Visit_Year'] = df['Visit_Date'].dt.year\n",
    "df['Visit_Day'] = df['Visit_Date'].dt.day\n",
    "df['Visit_Month'] = df['Visit_Month'].apply(lambda x: np.sin(2 * np.pi * x / 12))\n",
    "df['Visit_Day'] = df['Visit_Day'].apply(lambda x: np.sin(2 * np.pi * x / 31))"
   ]
  },
  {
   "cell_type": "code",
   "execution_count": null,
   "id": "b0fdb641",
   "metadata": {},
   "outputs": [],
   "source": [
    "# Encode Local_Resident column to integer Values.\n",
    "df['Local_Resident'] = df['Local_Resident'].astype('category').cat.codes"
   ]
  },
  {
   "cell_type": "code",
   "execution_count": 14,
   "id": "9bb025d3",
   "metadata": {},
   "outputs": [
    {
     "name": "stdout",
     "output_type": "stream",
     "text": [
      "Admitted                   0\n",
      "avg_income                75\n",
      "CLINIC_VISIT               0\n",
      "REFERRAL_SOURCE           60\n",
      "Visit_Date                 0\n",
      "Visit_Month                0\n",
      "distance_to_hospital       0\n",
      "ETHNICITY                 60\n",
      "BMI                       75\n",
      "symptom_duration           0\n",
      "Local_Resident             0\n",
      "BP_Score                   0\n",
      "Pulse_Score                0\n",
      "interest_in_admission      0\n",
      "INSURANCE_TYPE             0\n",
      "FOLLOWUP_EMAILS            0\n",
      "REFERRED_BY_SPECIALIST     0\n",
      "REFERRAL_CONTACTS          0\n",
      "OXYGEN_LEVEL              75\n",
      "PATIENT_CALLS              0\n",
      "sex                        0\n",
      "HOSPITAL_REACHOUTS         0\n",
      "TELEMEDICINE_SCORE         0\n",
      "SERVICE_REGION             0\n",
      "TOTAL_CONTACTS             0\n",
      "TRAVEL_REQUESTS            0\n",
      "dtype: int64\n"
     ]
    },
    {
     "ename": "TypeError",
     "evalue": "Cannot convert ['Y' 'Y' 'Y' ... 'Y' 'Y' 'N'] to numeric",
     "output_type": "error",
     "traceback": [
      "\u001b[31m---------------------------------------------------------------------------\u001b[39m",
      "\u001b[31mTypeError\u001b[39m                                 Traceback (most recent call last)",
      "\u001b[36mCell\u001b[39m\u001b[36m \u001b[39m\u001b[32mIn[14]\u001b[39m\u001b[32m, line 5\u001b[39m\n\u001b[32m      3\u001b[39m \u001b[38;5;28mprint\u001b[39m(df.isnull().sum())\n\u001b[32m      4\u001b[39m \u001b[38;5;66;03m# Fill missing values with appropriate strategies\u001b[39;00m\n\u001b[32m----> \u001b[39m\u001b[32m5\u001b[39m df[\u001b[33m'\u001b[39m\u001b[33mLocal_Resident\u001b[39m\u001b[33m'\u001b[39m] = df[\u001b[33m'\u001b[39m\u001b[33mLocal_Resident\u001b[39m\u001b[33m'\u001b[39m].fillna(\u001b[43mdf\u001b[49m\u001b[43m[\u001b[49m\u001b[33;43m'\u001b[39;49m\u001b[33;43mLocal_Resident\u001b[39;49m\u001b[33;43m'\u001b[39;49m\u001b[43m]\u001b[49m\u001b[43m.\u001b[49m\u001b[43mmedian\u001b[49m\u001b[43m(\u001b[49m\u001b[43m)\u001b[49m)\n\u001b[32m      6\u001b[39m df[\u001b[33m'\u001b[39m\u001b[33mVisit_Month\u001b[39m\u001b[33m'\u001b[39m] = df[\u001b[33m'\u001b[39m\u001b[33mVisit_Month\u001b[39m\u001b[33m'\u001b[39m].fillna(df[\u001b[33m'\u001b[39m\u001b[33mVisit_Month\u001b[39m\u001b[33m'\u001b[39m].median())\n\u001b[32m      7\u001b[39m df[\u001b[33m'\u001b[39m\u001b[33mVisit_Day\u001b[39m\u001b[33m'\u001b[39m] = df[\u001b[33m'\u001b[39m\u001b[33mVisit_Day\u001b[39m\u001b[33m'\u001b[39m].fillna(df[\u001b[33m'\u001b[39m\u001b[33mVisit_Day\u001b[39m\u001b[33m'\u001b[39m].median())\n",
      "\u001b[36mFile \u001b[39m\u001b[32mc:\\Users\\cwolt\\OneDrive\\Desktop\\Data-Science-Projects\\.venv\\Lib\\site-packages\\pandas\\core\\series.py:6570\u001b[39m, in \u001b[36mSeries.median\u001b[39m\u001b[34m(self, axis, skipna, numeric_only, **kwargs)\u001b[39m\n\u001b[32m   6562\u001b[39m \u001b[38;5;129m@doc\u001b[39m(make_doc(\u001b[33m\"\u001b[39m\u001b[33mmedian\u001b[39m\u001b[33m\"\u001b[39m, ndim=\u001b[32m1\u001b[39m))\n\u001b[32m   6563\u001b[39m \u001b[38;5;28;01mdef\u001b[39;00m\u001b[38;5;250m \u001b[39m\u001b[34mmedian\u001b[39m(\n\u001b[32m   6564\u001b[39m     \u001b[38;5;28mself\u001b[39m,\n\u001b[32m   (...)\u001b[39m\u001b[32m   6568\u001b[39m     **kwargs,\n\u001b[32m   6569\u001b[39m ):\n\u001b[32m-> \u001b[39m\u001b[32m6570\u001b[39m     \u001b[38;5;28;01mreturn\u001b[39;00m \u001b[43mNDFrame\u001b[49m\u001b[43m.\u001b[49m\u001b[43mmedian\u001b[49m\u001b[43m(\u001b[49m\u001b[38;5;28;43mself\u001b[39;49m\u001b[43m,\u001b[49m\u001b[43m \u001b[49m\u001b[43maxis\u001b[49m\u001b[43m,\u001b[49m\u001b[43m \u001b[49m\u001b[43mskipna\u001b[49m\u001b[43m,\u001b[49m\u001b[43m \u001b[49m\u001b[43mnumeric_only\u001b[49m\u001b[43m,\u001b[49m\u001b[43m \u001b[49m\u001b[43m*\u001b[49m\u001b[43m*\u001b[49m\u001b[43mkwargs\u001b[49m\u001b[43m)\u001b[49m\n",
      "\u001b[36mFile \u001b[39m\u001b[32mc:\\Users\\cwolt\\OneDrive\\Desktop\\Data-Science-Projects\\.venv\\Lib\\site-packages\\pandas\\core\\generic.py:12450\u001b[39m, in \u001b[36mNDFrame.median\u001b[39m\u001b[34m(self, axis, skipna, numeric_only, **kwargs)\u001b[39m\n\u001b[32m  12443\u001b[39m \u001b[38;5;28;01mdef\u001b[39;00m\u001b[38;5;250m \u001b[39m\u001b[34mmedian\u001b[39m(\n\u001b[32m  12444\u001b[39m     \u001b[38;5;28mself\u001b[39m,\n\u001b[32m  12445\u001b[39m     axis: Axis | \u001b[38;5;28;01mNone\u001b[39;00m = \u001b[32m0\u001b[39m,\n\u001b[32m   (...)\u001b[39m\u001b[32m  12448\u001b[39m     **kwargs,\n\u001b[32m  12449\u001b[39m ) -> Series | \u001b[38;5;28mfloat\u001b[39m:\n\u001b[32m> \u001b[39m\u001b[32m12450\u001b[39m     \u001b[38;5;28;01mreturn\u001b[39;00m \u001b[38;5;28;43mself\u001b[39;49m\u001b[43m.\u001b[49m\u001b[43m_stat_function\u001b[49m\u001b[43m(\u001b[49m\n\u001b[32m  12451\u001b[39m \u001b[43m        \u001b[49m\u001b[33;43m\"\u001b[39;49m\u001b[33;43mmedian\u001b[39;49m\u001b[33;43m\"\u001b[39;49m\u001b[43m,\u001b[49m\u001b[43m \u001b[49m\u001b[43mnanops\u001b[49m\u001b[43m.\u001b[49m\u001b[43mnanmedian\u001b[49m\u001b[43m,\u001b[49m\u001b[43m \u001b[49m\u001b[43maxis\u001b[49m\u001b[43m,\u001b[49m\u001b[43m \u001b[49m\u001b[43mskipna\u001b[49m\u001b[43m,\u001b[49m\u001b[43m \u001b[49m\u001b[43mnumeric_only\u001b[49m\u001b[43m,\u001b[49m\u001b[43m \u001b[49m\u001b[43m*\u001b[49m\u001b[43m*\u001b[49m\u001b[43mkwargs\u001b[49m\n\u001b[32m  12452\u001b[39m \u001b[43m    \u001b[49m\u001b[43m)\u001b[49m\n",
      "\u001b[36mFile \u001b[39m\u001b[32mc:\\Users\\cwolt\\OneDrive\\Desktop\\Data-Science-Projects\\.venv\\Lib\\site-packages\\pandas\\core\\generic.py:12396\u001b[39m, in \u001b[36mNDFrame._stat_function\u001b[39m\u001b[34m(self, name, func, axis, skipna, numeric_only, **kwargs)\u001b[39m\n\u001b[32m  12392\u001b[39m nv.validate_func(name, (), kwargs)\n\u001b[32m  12394\u001b[39m validate_bool_kwarg(skipna, \u001b[33m\"\u001b[39m\u001b[33mskipna\u001b[39m\u001b[33m\"\u001b[39m, none_allowed=\u001b[38;5;28;01mFalse\u001b[39;00m)\n\u001b[32m> \u001b[39m\u001b[32m12396\u001b[39m \u001b[38;5;28;01mreturn\u001b[39;00m \u001b[38;5;28;43mself\u001b[39;49m\u001b[43m.\u001b[49m\u001b[43m_reduce\u001b[49m\u001b[43m(\u001b[49m\n\u001b[32m  12397\u001b[39m \u001b[43m    \u001b[49m\u001b[43mfunc\u001b[49m\u001b[43m,\u001b[49m\u001b[43m \u001b[49m\u001b[43mname\u001b[49m\u001b[43m=\u001b[49m\u001b[43mname\u001b[49m\u001b[43m,\u001b[49m\u001b[43m \u001b[49m\u001b[43maxis\u001b[49m\u001b[43m=\u001b[49m\u001b[43maxis\u001b[49m\u001b[43m,\u001b[49m\u001b[43m \u001b[49m\u001b[43mskipna\u001b[49m\u001b[43m=\u001b[49m\u001b[43mskipna\u001b[49m\u001b[43m,\u001b[49m\u001b[43m \u001b[49m\u001b[43mnumeric_only\u001b[49m\u001b[43m=\u001b[49m\u001b[43mnumeric_only\u001b[49m\n\u001b[32m  12398\u001b[39m \u001b[43m\u001b[49m\u001b[43m)\u001b[49m\n",
      "\u001b[36mFile \u001b[39m\u001b[32mc:\\Users\\cwolt\\OneDrive\\Desktop\\Data-Science-Projects\\.venv\\Lib\\site-packages\\pandas\\core\\series.py:6468\u001b[39m, in \u001b[36mSeries._reduce\u001b[39m\u001b[34m(self, op, name, axis, skipna, numeric_only, filter_type, **kwds)\u001b[39m\n\u001b[32m   6463\u001b[39m     \u001b[38;5;66;03m# GH#47500 - change to TypeError to match other methods\u001b[39;00m\n\u001b[32m   6464\u001b[39m     \u001b[38;5;28;01mraise\u001b[39;00m \u001b[38;5;167;01mTypeError\u001b[39;00m(\n\u001b[32m   6465\u001b[39m         \u001b[33mf\u001b[39m\u001b[33m\"\u001b[39m\u001b[33mSeries.\u001b[39m\u001b[38;5;132;01m{\u001b[39;00mname\u001b[38;5;132;01m}\u001b[39;00m\u001b[33m does not allow \u001b[39m\u001b[38;5;132;01m{\u001b[39;00mkwd_name\u001b[38;5;132;01m}\u001b[39;00m\u001b[33m=\u001b[39m\u001b[38;5;132;01m{\u001b[39;00mnumeric_only\u001b[38;5;132;01m}\u001b[39;00m\u001b[33m \u001b[39m\u001b[33m\"\u001b[39m\n\u001b[32m   6466\u001b[39m         \u001b[33m\"\u001b[39m\u001b[33mwith non-numeric dtypes.\u001b[39m\u001b[33m\"\u001b[39m\n\u001b[32m   6467\u001b[39m     )\n\u001b[32m-> \u001b[39m\u001b[32m6468\u001b[39m \u001b[38;5;28;01mreturn\u001b[39;00m \u001b[43mop\u001b[49m\u001b[43m(\u001b[49m\u001b[43mdelegate\u001b[49m\u001b[43m,\u001b[49m\u001b[43m \u001b[49m\u001b[43mskipna\u001b[49m\u001b[43m=\u001b[49m\u001b[43mskipna\u001b[49m\u001b[43m,\u001b[49m\u001b[43m \u001b[49m\u001b[43m*\u001b[49m\u001b[43m*\u001b[49m\u001b[43mkwds\u001b[49m\u001b[43m)\u001b[49m\n",
      "\u001b[36mFile \u001b[39m\u001b[32mc:\\Users\\cwolt\\OneDrive\\Desktop\\Data-Science-Projects\\.venv\\Lib\\site-packages\\pandas\\core\\nanops.py:147\u001b[39m, in \u001b[36mbottleneck_switch.__call__.<locals>.f\u001b[39m\u001b[34m(values, axis, skipna, **kwds)\u001b[39m\n\u001b[32m    145\u001b[39m         result = alt(values, axis=axis, skipna=skipna, **kwds)\n\u001b[32m    146\u001b[39m \u001b[38;5;28;01melse\u001b[39;00m:\n\u001b[32m--> \u001b[39m\u001b[32m147\u001b[39m     result = \u001b[43malt\u001b[49m\u001b[43m(\u001b[49m\u001b[43mvalues\u001b[49m\u001b[43m,\u001b[49m\u001b[43m \u001b[49m\u001b[43maxis\u001b[49m\u001b[43m=\u001b[49m\u001b[43maxis\u001b[49m\u001b[43m,\u001b[49m\u001b[43m \u001b[49m\u001b[43mskipna\u001b[49m\u001b[43m=\u001b[49m\u001b[43mskipna\u001b[49m\u001b[43m,\u001b[49m\u001b[43m \u001b[49m\u001b[43m*\u001b[49m\u001b[43m*\u001b[49m\u001b[43mkwds\u001b[49m\u001b[43m)\u001b[49m\n\u001b[32m    149\u001b[39m \u001b[38;5;28;01mreturn\u001b[39;00m result\n",
      "\u001b[36mFile \u001b[39m\u001b[32mc:\\Users\\cwolt\\OneDrive\\Desktop\\Data-Science-Projects\\.venv\\Lib\\site-packages\\pandas\\core\\nanops.py:787\u001b[39m, in \u001b[36mnanmedian\u001b[39m\u001b[34m(values, axis, skipna, mask)\u001b[39m\n\u001b[32m    785\u001b[39m     inferred = lib.infer_dtype(values)\n\u001b[32m    786\u001b[39m     \u001b[38;5;28;01mif\u001b[39;00m inferred \u001b[38;5;129;01min\u001b[39;00m [\u001b[33m\"\u001b[39m\u001b[33mstring\u001b[39m\u001b[33m\"\u001b[39m, \u001b[33m\"\u001b[39m\u001b[33mmixed\u001b[39m\u001b[33m\"\u001b[39m]:\n\u001b[32m--> \u001b[39m\u001b[32m787\u001b[39m         \u001b[38;5;28;01mraise\u001b[39;00m \u001b[38;5;167;01mTypeError\u001b[39;00m(\u001b[33mf\u001b[39m\u001b[33m\"\u001b[39m\u001b[33mCannot convert \u001b[39m\u001b[38;5;132;01m{\u001b[39;00mvalues\u001b[38;5;132;01m}\u001b[39;00m\u001b[33m to numeric\u001b[39m\u001b[33m\"\u001b[39m)\n\u001b[32m    788\u001b[39m \u001b[38;5;28;01mtry\u001b[39;00m:\n\u001b[32m    789\u001b[39m     values = values.astype(\u001b[33m\"\u001b[39m\u001b[33mf8\u001b[39m\u001b[33m\"\u001b[39m)\n",
      "\u001b[31mTypeError\u001b[39m: Cannot convert ['Y' 'Y' 'Y' ... 'Y' 'Y' 'N'] to numeric"
     ]
    }
   ],
   "source": [
    "# Extra Credit: Handle the missing values in the dataset\n",
    "# Check for missing values\n",
    "print(df.isnull().sum())\n",
    "# Fill missing values with appropriate strategies\n",
    "df['Local_Resident'] = df['Local_Resident'].fillna(df['Local_Resident'].median())\n",
    "df['Visit_Month'] = df['Visit_Month'].fillna(df['Visit_Month'].median())\n",
    "df['Visit_Day'] = df['Visit_Day'].fillna(df['Visit_Day'].median())"
   ]
  }
 ],
 "metadata": {
  "kernelspec": {
   "display_name": ".venv",
   "language": "python",
   "name": "python3"
  },
  "language_info": {
   "codemirror_mode": {
    "name": "ipython",
    "version": 3
   },
   "file_extension": ".py",
   "mimetype": "text/x-python",
   "name": "python",
   "nbconvert_exporter": "python",
   "pygments_lexer": "ipython3",
   "version": "3.13.7"
  }
 },
 "nbformat": 4,
 "nbformat_minor": 5
}
