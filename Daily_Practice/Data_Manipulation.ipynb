{
 "cells": [
  {
   "cell_type": "markdown",
   "id": "f4e35f4d",
   "metadata": {},
   "source": [
    "## Data manipulaton practice"
   ]
  }
 ],
 "metadata": {
  "language_info": {
   "name": "python"
  }
 },
 "nbformat": 4,
 "nbformat_minor": 5
}
